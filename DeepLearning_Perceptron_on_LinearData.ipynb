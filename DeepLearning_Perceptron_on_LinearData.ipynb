{
 "cells": [
  {
   "cell_type": "markdown",
   "metadata": {
    "id": "J91Y5soeTZq8"
   },
   "source": [
    "***Deep Learning Assignment 1***"
   ]
  },
  {
   "cell_type": "markdown",
   "metadata": {
    "id": "JOvv83jCTpTT"
   },
   "source": [
    "Perceptron Learning with Sigmoidal Activation Function on Linear Separable Data"
   ]
  },
  {
   "cell_type": "markdown",
   "metadata": {
    "id": "iNMK7EC3WBEC"
   },
   "source": [
    "Giving permission to read data from drive"
   ]
  },
  {
   "cell_type": "code",
   "execution_count": 4,
   "metadata": {
    "colab": {
     "base_uri": "https://localhost:8080/",
     "height": 0
    },
    "id": "2hEC4OwjUvyS",
    "outputId": "fd072c13-dde4-41e1-a0b0-cee239a0a66c"
   },
   "outputs": [
    {
     "name": "stdout",
     "output_type": "stream",
     "text": [
      "Mounted at /content/drive\n"
     ]
    }
   ],
   "source": [
    "from google.colab import drive\n",
    "drive.mount('/content/drive')"
   ]
  },
  {
   "cell_type": "markdown",
   "metadata": {
    "id": "8cehKkuZWNwc"
   },
   "source": [
    "**Importing libraries**"
   ]
  },
  {
   "cell_type": "code",
   "execution_count": 5,
   "metadata": {
    "id": "AEBMEK8RUyV5"
   },
   "outputs": [],
   "source": [
    "import numpy as np\n",
    "import pandas as pd\n",
    "import math\n",
    "import matplotlib.pyplot as plt\n",
    "import sklearn\n",
    "from sklearn.model_selection import train_test_split\n",
    "from itertools import permutations \n",
    "from scipy import stats"
   ]
  },
  {
   "cell_type": "code",
   "execution_count": 6,
   "metadata": {
    "id": "cfaPB3ytW0SW"
   },
   "outputs": [],
   "source": [
    "class ReadData(object):\n",
    "    \n",
    "    def __init__(self, data, filepath, files):\n",
    "        \n",
    "        files = [filepath + '/' + file for file in files]\n",
    "        self.files = files\n",
    "        \n",
    "        for i in range(len(files)):\n",
    "            \n",
    "            class_i = pd.read_csv(files[i], sep = ' ', header = None)\n",
    "            data.append(class_i.values)\n",
    "            \n",
    "        self.data = data\n",
    "\n",
    "        \n",
    "    def kClass(self, k):\n",
    "        return self.data[k]  \n",
    "\n",
    "\n",
    "    def plotData(self):\n",
    "        \n",
    "        for i in range(len(self.files)):\n",
    "            class_label = 'Class' + str(i+1)\n",
    "            plt.scatter(self.kClass(i)[:,0], self.kClass(i)[:,1], label = class_label)\n",
    "\n",
    "        plt.legend()    \n",
    "        plt.show() \n",
    "\n",
    "\n",
    "    def train_validation_test_split(self, perTrain, perVal, perTest):\n",
    "        \n",
    "        train_data = []\n",
    "        val_data = []\n",
    "        test_data = []\n",
    "        \n",
    "        n = len(self.files)\n",
    "        \n",
    "        for i in range(n):\n",
    "            \n",
    "            train, test = train_test_split(self.kClass(i), test_size=perTest, random_state=42, shuffle=True)\n",
    "            train, val = train_test_split(train, test_size = (perVal/(perVal + perTrain)), random_state=42, shuffle=True)\n",
    "            \n",
    "            train_data.append(train)\n",
    "            val_data.append(val)\n",
    "            test_data.append(test)\n",
    "            \n",
    "        return train_data, val_data, test_data"
   ]
  },
  {
   "cell_type": "code",
   "execution_count": 7,
   "metadata": {
    "id": "rh3LsKqKdJc7"
   },
   "outputs": [],
   "source": [
    "class Perceptron(object):\n",
    "    \n",
    "    def __init__(self, weights, dim, actFun):\n",
    "        \n",
    "        self.dim = dim\n",
    "        init_weights = np.random.normal(0, 1, dim+1)\n",
    "        self.weights = init_weights\n",
    "        self.actFun = actFun\n",
    "        \n",
    "        \n",
    "    def fitTwo(self, trainData, lrRate, β, epochs):\n",
    "        \n",
    "        if(self.actFun == 'logistic' or self.actFun == 'tanh'):\n",
    "            avgErrors = []\n",
    "        else:\n",
    "            print('Error\\nActivation Function Not Available\\nUse either logistic or tanh')\n",
    "            return \n",
    "    \n",
    "        \n",
    "        for i in range(epochs):\n",
    "            \n",
    "            avgError = 0\n",
    "            \n",
    "            for k in range(2):\n",
    "                \n",
    "                l = len(trainData[k])\n",
    "                o = np.ones(l)\n",
    "                o = np.reshape(o, (l, 1))\n",
    "                dt = np.hstack((o, trainData[k]))\n",
    "                \n",
    "                \n",
    "                for j in range(l):\n",
    "                    \n",
    "                    a = np.sum(self.weights*dt[j])\n",
    "                    \n",
    "                    if(self.actFun == 'logistic'):\n",
    "                        \n",
    "                        s = 1/(1 + np.exp(-β*a))\n",
    "                        e = np.sum(0.5*((k-s)**2))\n",
    "                        \n",
    "                        δw = lrRate*(k-s)*β*s*(1-s)*dt[j]\n",
    "                        \n",
    "                    elif(self.actFun == 'tanh'):\n",
    "                        \n",
    "                        x = np.exp(β*a)\n",
    "                        y = np.exp(-β*a)\n",
    "                        s = (x-y)/(x+y)\n",
    "                        \n",
    "                        e = np.sum(0.5*((k-s)**2))\n",
    "                        \n",
    "                        δw = lrRate*(k-s)*β*(1 - s**2)*dt[j]\n",
    "                    \n",
    "                        \n",
    "                    self.weights += δw\n",
    "                    avgError += e\n",
    "                \n",
    "            avgErrors.append(avgError)\n",
    "                    \n",
    "        plt.plot(list(range(1, epochs + 1, 1)), avgErrors)\n",
    "        plt.title('Epochs vs Avg Error')\n",
    "        plt.show()\n",
    "        \n",
    "        return self.weights"
   ]
  },
  {
   "cell_type": "code",
   "execution_count": 79,
   "metadata": {
    "id": "u38LWSVk34xX"
   },
   "outputs": [],
   "source": [
    "class MultiPerceptrons(object):\n",
    "    \n",
    "    def __init__(self, weights, dim, actFun):\n",
    "        \n",
    "        self.dim = dim\n",
    "        init_weights = np.random.normal(0, 1, dim+1)\n",
    "        self.weights = init_weights\n",
    "        self.actFun = actFun\n",
    "        \n",
    "        \n",
    "    def lexicographical_permutation(self, k): \n",
    "    \n",
    "        string = ''\n",
    "    \n",
    "        for i in range(k):\n",
    "            string = string + str(i)\n",
    "        \n",
    "        perm = sorted(''.join(chars) for chars in permutations(string)) \n",
    "        ans = []\n",
    "        for x in perm: \n",
    "            a = (int(x[0]), int(x[1]))\n",
    "            ans.append(tuple(sorted(a)))\n",
    "        \n",
    "        return set(ans)\n",
    "        \n",
    "        \n",
    "    def fit(self, trainData, η, β, epochs, N):\n",
    "\n",
    "        self.beta = β\n",
    "        \n",
    "        K = int(N*(N-1)/2)\n",
    "        W = [[0 for x in range(N)] for x in range(N)] \n",
    "        \n",
    "        ans = self.lexicographical_permutation(K)\n",
    "        \n",
    "        for i in ans:\n",
    "            \n",
    "            print('For Classes', i[0], i[1])\n",
    "            \n",
    "            perceptron = Perceptron(self.weights, self.dim, self.actFun)\n",
    "            w = perceptron.fitTwo([trainData[i[0]], trainData[i[1]]], η, β, epochs)\n",
    "            \n",
    "            W[i[0]][i[1]] = w\n",
    "            W[i[1]][i[0]] = w\n",
    "            \n",
    "            \n",
    "        return W\n",
    "\n",
    "\n",
    "    def logistic(self, x):\n",
    "        return 1/(1 + np.exp(-self.beta*x))\n",
    "    \n",
    "    def tanh(self, x):\n",
    "        return (np.exp(self.beta*x) - np.exp(-self.beta*x))/(np.exp(self.beta*x) + np.exp(-self.beta*x))\n",
    "    \n",
    "    \n",
    "    def accuracy(self, finalWeights, data, N):\n",
    "        \n",
    "        if(self.actFun == 'logistic'):\n",
    "            \n",
    "            truePredCount = 0\n",
    "            total_count = 0\n",
    "            \n",
    "            for k in range(N):\n",
    "    \n",
    "                labels = []\n",
    "    \n",
    "                l = len(data[k])\n",
    "                o = np.ones(l)\n",
    "                o = np.reshape(o, (l, 1))\n",
    "                dt = np.hstack((o, data[k]))\n",
    "                total_count += l\n",
    "    \n",
    "                for i in range(N):\n",
    "                    for j in range(N):\n",
    "                        if(i < j):\n",
    "                \n",
    "                            A = np.multiply(self.logistic(np.sum(finalWeights[i][j]*dt, axis = 1)) > 0.5, j+1)\n",
    "                            A += np.multiply(self.logistic(np.sum(finalWeights[i][j]*dt, axis = 1)) <= 0.5, i+1)\n",
    "                            A = np.reshape(A, (l, 1))\n",
    "                \n",
    "                            if(labels == []):\n",
    "                                labels = A\n",
    "                    \n",
    "                            else:\n",
    "                                labels = np.hstack((labels, A))   \n",
    "                    \n",
    "                preds = stats.mode(labels, axis = 1)[0]          \n",
    "                truePredCount += np.sum(np.multiply(preds == k+1, 1))\n",
    "    \n",
    "            return (truePredCount/total_count)*100\n",
    "        \n",
    "        elif(self.actFun == 'tanh'):\n",
    "            \n",
    "            truePredCount = 0\n",
    "            total_count = 0\n",
    "            \n",
    "            for k in range(N):\n",
    "    \n",
    "                labels = []\n",
    "    \n",
    "                l = len(data[k])\n",
    "                o = np.ones(l)\n",
    "                o = np.reshape(o, (l, 1))\n",
    "                dt = np.hstack((o, data[k]))\n",
    "                total_count += l\n",
    "    \n",
    "                for i in range(N):\n",
    "                    for j in range(N):\n",
    "                        if(i < j):\n",
    "                \n",
    "                            A = np.multiply(self.tanh(np.sum(finalWeights[i][j]*dt, axis = 1)) > 0, j+1)\n",
    "                            A += np.multiply(self.tanh(np.sum(finalWeights[i][j]*dt, axis = 1)) <= 0, i+1)\n",
    "                            A = np.reshape(A, (l, 1))\n",
    "                \n",
    "                            if(labels == []):\n",
    "                                labels = A\n",
    "                    \n",
    "                            else:\n",
    "                                labels = np.hstack((labels, A))   \n",
    "                    \n",
    "                preds = stats.mode(labels, axis = 1)[0]          \n",
    "                truePredCount += np.sum(np.multiply(preds == k+1, 1))\n",
    "    \n",
    "            return (truePredCount/total_count)*100\n",
    "\n",
    "    def decisionPlot(self, finalWeights, min, max, N, trainData):\n",
    "        \n",
    "        x = np.arange(min, max, 0.1)\n",
    "        y = np.arange(min, max, 0.1)\n",
    "        xx, yy = np.meshgrid(x, y)\n",
    "        l = len(x)*len(x)\n",
    "        o = np.ones(l)\n",
    "        o = np.reshape(o, (l, 1))\n",
    "        dt = np.hstack((np.reshape(xx, (l, 1)), np.reshape(yy, (l, 1))))\n",
    "        dt = np.hstack((o, dt))\n",
    "\n",
    "        labels = []\n",
    "\n",
    "        for i in range(N):\n",
    "            for j in range(N):\n",
    "                if(i < j):\n",
    "\n",
    "                    if(self.actFun == 'logistic'):\n",
    "                        A = np.multiply(self.logistic(np.sum(finalWeights[i][j]*dt, axis = 1)) > 0.5, j+1)\n",
    "                        A += np.multiply(self.logistic(np.sum(finalWeights[i][j]*dt, axis = 1)) <= 0.5, i+1)\n",
    "\n",
    "                    elif(self.actFun == 'tanh'):\n",
    "                        A = np.multiply(self.tanh(np.sum(finalWeights[i][j]*dt, axis = 1)) > 0, j+1)\n",
    "                        A += np.multiply(self.tanh(np.sum(finalWeights[i][j]*dt, axis = 1)) <= 0, i+1)\n",
    "\n",
    "                    A = np.reshape(A, (l, 1))\n",
    "                \n",
    "                    if(labels == []):\n",
    "                        labels = A\n",
    "                    \n",
    "                    else:\n",
    "                        labels = np.hstack((labels, A))   \n",
    "                    \n",
    "        preds = stats.mode(labels, axis = 1)[0]\n",
    "        plt.scatter(dt[:,1],dt[:,2], c = preds, alpha = 0.1)\n",
    "\n",
    "        for i in range(N):\n",
    "            plt.scatter(trainData[i][:,0], trainData[i][:,1], s = 1)\n",
    "            \n",
    "        plt.show()"
   ]
  },
  {
   "cell_type": "code",
   "execution_count": 9,
   "metadata": {
    "id": "X0NqEA5ZcYJH"
   },
   "outputs": [],
   "source": [
    "data = []\n",
    "filenames = ['Class1.txt', 'Class2.txt', 'Class3.txt']\n",
    "dataset = ReadData(data, '/content/drive/MyDrive/Group17/Classification/LS_Group17', filenames)"
   ]
  },
  {
   "cell_type": "code",
   "execution_count": 57,
   "metadata": {
    "colab": {
     "base_uri": "https://localhost:8080/",
     "height": 265
    },
    "id": "nFFPUl7Mc7Af",
    "outputId": "2ad18c54-ba68-4f79-fc3d-bca5fe9dfc5e"
   },
   "outputs": [
    {
     "data": {
      "image/png": "[encoded data removed]",
      "text/plain": [
       "<Figure size 432x288 with 1 Axes>"
      ]
     },
     "metadata": {
      "needs_background": "light",
      "tags": []
     },
     "output_type": "display_data"
    }
   ],
   "source": [
    "dataset.plotData()"
   ]
  },
  {
   "cell_type": "code",
   "execution_count": 58,
   "metadata": {
    "id": "bltf2ZJbwijt"
   },
   "outputs": [],
   "source": [
    "trainData, valData, testData = dataset.train_validation_test_split(0.6,0.2,0.2)"
   ]
  },
  {
   "cell_type": "code",
   "execution_count": 80,
   "metadata": {
    "id": "Erk8xHPABgjI"
   },
   "outputs": [],
   "source": [
    "weights = []\n",
    "multiPerceptron = MultiPerceptrons(weights, 2, 'tanh')"
   ]
  },
  {
   "cell_type": "markdown",
   "metadata": {
    "id": "IFwZNwlMB69I"
   },
   "source": [
    "****Best Accuracy comes in logistic function with learning rate = 0.4 and beta = 0.3\n",
    "For tanh function, accuracy is difficult to be achieved to 100% but 80% can be achieved with learning rate = 0.01 and beta = 0.035****"
   ]
  },
  {
   "cell_type": "code",
   "execution_count": 107,
   "metadata": {
    "colab": {
     "base_uri": "https://localhost:8080/",
     "height": 861
    },
    "id": "1OMgDkPXBke6",
    "outputId": "bf375698-e25b-444a-d0b6-440eb7c3f7ab"
   },
   "outputs": [
    {
     "name": "stdout",
     "output_type": "stream",
     "text": [
      "For Classes 0 1\n"
     ]
    },
    {
     "data": {
      "image/png": "[encoded data removed]",
      "text/plain": [
       "<Figure size 432x288 with 1 Axes>"
      ]
     },
     "metadata": {
      "needs_background": "light",
      "tags": []
     },
     "output_type": "display_data"
    },
    {
     "name": "stdout",
     "output_type": "stream",
     "text": [
      "For Classes 0 2\n"
     ]
    },
    {
     "data": {
      "image/png": "[encoded data removed]",
      "text/plain": [
       "<Figure size 432x288 with 1 Axes>"
      ]
     },
     "metadata": {
      "needs_background": "light",
      "tags": []
     },
     "output_type": "display_data"
    },
    {
     "name": "stdout",
     "output_type": "stream",
     "text": [
      "For Classes 1 2\n"
     ]
    },
    {
     "data": {
      "image/png": "[encoded data removed]",
      "text/plain": [
       "<Figure size 432x288 with 1 Axes>"
      ]
     },
     "metadata": {
      "needs_background": "light",
      "tags": []
     },
     "output_type": "display_data"
    }
   ],
   "source": [
    "W = multiPerceptron.fit(trainData, 0.0099, 0.033, 100, 3)"
   ]
  },
  {
   "cell_type": "code",
   "execution_count": 109,
   "metadata": {
    "colab": {
     "base_uri": "https://localhost:8080/",
     "height": 0
    },
    "id": "KpvrvKqqCess",
    "outputId": "fc72c5b3-a4d2-4e75-901a-4d552bf33462"
   },
   "outputs": [
    {
     "data": {
      "text/plain": [
       "[[0,\n",
       "  array([ 2.32039748, -0.1345132 , -3.69662546]),\n",
       "  array([ 7.42832111, -0.53691186,  2.51422872])],\n",
       " [array([ 2.32039748, -0.1345132 , -3.69662546]),\n",
       "  0,\n",
       "  array([ 8.90450255, -1.10986803,  0.43411799])],\n",
       " [array([ 7.42832111, -0.53691186,  2.51422872]),\n",
       "  array([ 8.90450255, -1.10986803,  0.43411799]),\n",
       "  0]]"
      ]
     },
     "execution_count": 109,
     "metadata": {
      "tags": []
     },
     "output_type": "execute_result"
    }
   ],
   "source": [
    "W"
   ]
  },
  {
   "cell_type": "code",
   "execution_count": 110,
   "metadata": {
    "colab": {
     "base_uri": "https://localhost:8080/",
     "height": 0
    },
    "id": "7jnyqGjIC0Cj",
    "outputId": "64b59e5b-f86f-47bd-e702-96c11f7a01d3"
   },
   "outputs": [
    {
     "name": "stderr",
     "output_type": "stream",
     "text": [
      "/usr/local/lib/python3.7/dist-packages/ipykernel_launcher.py:116: DeprecationWarning: The truth value of an empty array is ambiguous. Returning False, but in future this will result in an error. Use `array.size > 0` to check that an array is not empty.\n",
      "/usr/local/lib/python3.7/dist-packages/ipykernel_launcher.py:116: DeprecationWarning: elementwise comparison failed; this will raise an error in the future.\n"
     ]
    }
   ],
   "source": [
    "train_acc , val_acc, test_acc = multiPerceptron.accuracy(W, trainData, 3), multiPerceptron.accuracy(W, valData, 3), multiPerceptron.accuracy(W, testData, 3)"
   ]
  },
  {
   "cell_type": "code",
   "execution_count": 111,
   "metadata": {
    "colab": {
     "base_uri": "https://localhost:8080/",
     "height": 0
    },
    "id": "3B5muCzYUDcL",
    "outputId": "b014f903-27c5-4a51-9cd1-a6a72ea06cbd"
   },
   "outputs": [
    {
     "name": "stdout",
     "output_type": "stream",
     "text": [
      "Train Accuracy: 81.00 \n",
      "Validation Accuracy: 82.67 \n",
      "Test Accuracy: 81.33\n"
     ]
    }
   ],
   "source": [
    "print('Train Accuracy: %.2f \\nValidation Accuracy: %.2f \\nTest Accuracy: %.2f' %(train_acc, val_acc, test_acc))"
   ]
  },
  {
   "cell_type": "code",
   "execution_count": 108,
   "metadata": {
    "colab": {
     "base_uri": "https://localhost:8080/",
     "height": 320
    },
    "id": "br-g9yohVMRc",
    "outputId": "4548301d-3ec6-43cb-8465-2e6343c12fba"
   },
   "outputs": [
    {
     "name": "stderr",
     "output_type": "stream",
     "text": [
      "/usr/local/lib/python3.7/dist-packages/ipykernel_launcher.py:154: DeprecationWarning: The truth value of an empty array is ambiguous. Returning False, but in future this will result in an error. Use `array.size > 0` to check that an array is not empty.\n",
      "/usr/local/lib/python3.7/dist-packages/ipykernel_launcher.py:154: DeprecationWarning: elementwise comparison failed; this will raise an error in the future.\n"
     ]
    },
    {
     "data": {
      "image/png": "[encoded data removed]",
      "text/plain": [
       "<Figure size 432x288 with 1 Axes>"
      ]
     },
     "metadata": {
      "needs_background": "light",
      "tags": []
     },
     "output_type": "display_data"
    }
   ],
   "source": [
    "multiPerceptron.decisionPlot(W, -20, 30, 3, trainData)"
   ]
  },
  {
   "cell_type": "code",
   "execution_count": 17,
   "metadata": {
    "id": "5dqiGYxA1EKv"
   },
   "outputs": [],
   "source": []
  }
 ],
 "metadata": {
  "colab": {
   "collapsed_sections": [],
   "name": "DL_Assignment_1.ipynb",
   "provenance": []
  },
  "kernelspec": {
   "display_name": "Python 3",
   "language": "python",
   "name": "python3"
  },
  "language_info": {
   "codemirror_mode": {
    "name": "ipython",
    "version": 3
   },
   "file_extension": ".py",
   "mimetype": "text/x-python",
   "name": "python",
   "nbconvert_exporter": "python",
   "pygments_lexer": "ipython3",
   "version": "3.6.5"
  }
 },
 "nbformat": 4,
 "nbformat_minor": 1
}
