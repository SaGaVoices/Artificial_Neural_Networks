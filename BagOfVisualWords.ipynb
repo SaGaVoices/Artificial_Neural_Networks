{
 "cells": [
  {
   "cell_type": "code",
   "execution_count": 1,
   "metadata": {},
   "outputs": [],
   "source": [
    "import numpy as np\n",
    "import pandas as pd\n",
    "import math\n",
    "import matplotlib.pyplot as plt\n",
    "from mpl_toolkits import mplot3d \n",
    "import sklearn\n",
    "from sklearn.model_selection import train_test_split\n",
    "from itertools import permutations \n",
    "from scipy import stats\n",
    "import random\n",
    "from sklearn.metrics import confusion_matrix\n",
    "from PIL import Image\n",
    "import os, sys\n",
    "from skimage.io import imread_collection"
   ]
  },
  {
   "cell_type": "code",
   "execution_count": 39,
   "metadata": {},
   "outputs": [],
   "source": [
    "import importlib, importlib.util\n",
    "\n",
    "def module_from_file(module_name, file_path):\n",
    "    spec = importlib.util.spec_from_file_location(module_name, file_path)\n",
    "    module = importlib.util.module_from_spec(spec)\n",
    "    spec.loader.exec_module(module)\n",
    "    return module"
   ]
  },
  {
   "cell_type": "code",
   "execution_count": 40,
   "metadata": {},
   "outputs": [],
   "source": [
    "MLNN = module_from_file(\"myclasses\", \"MLNN.py\")"
   ]
  },
  {
   "cell_type": "code",
   "execution_count": 7,
   "metadata": {},
   "outputs": [],
   "source": [
    "def resize(path, path_new):\n",
    "    dirs = os.listdir( path )\n",
    "    i = 0\n",
    "    for item in dirs:\n",
    "        if os.path.isfile(path+item):\n",
    "            im = Image.open(path+item).convert('RGB')\n",
    "            f, e = os.path.splitext(path+item)\n",
    "            imResize = im.resize((256,256), Image.ANTIALIAS)\n",
    "            imResize.save(path_new + str(i) + '.jpg', 'JPEG', quality=100)\n",
    "            i += 1"
   ]
  },
  {
   "cell_type": "code",
   "execution_count": 2,
   "metadata": {},
   "outputs": [],
   "source": [
    "def partition(A):\n",
    "    matr = []\n",
    "    for i in range(8):\n",
    "        for j in range(8):\n",
    "            a = i*32\n",
    "            b = j*32\n",
    "            matr.append(A[a:a+32,b:b+32])\n",
    "    return matr"
   ]
  },
  {
   "cell_type": "code",
   "execution_count": 3,
   "metadata": {},
   "outputs": [],
   "source": [
    "def binRepresentation(image):\n",
    "    \n",
    "    bins = [0,32,64,96,128,160,192,224,256]\n",
    "    im = image.reshape(3,256,256)\n",
    "    res = np.zeros((64,1))\n",
    "    \n",
    "    for i in range(3):\n",
    "        \n",
    "        matrices = partition(im[i])\n",
    "        EachColor = np.zeros(8)\n",
    "        for j in range(len(matrices)):\n",
    "            \n",
    "            p = matrices[j].reshape(1,32*32)[0]\n",
    "            bin_indices = np.digitize(p, bins)\n",
    "            sr = pd.Series(bin_indices)\n",
    "            sr = sr.value_counts()\n",
    "            d = np.zeros(8)\n",
    "            for k in range(8):\n",
    "                try:\n",
    "                    d[k] = sr[k+1]\n",
    "                except:\n",
    "                    'EOF'\n",
    "            EachColor = np.vstack((EachColor, d))\n",
    "        \n",
    "        EachColor = EachColor[1:,:]\n",
    "    \n",
    "        res = np.hstack((res,EachColor))\n",
    "        \n",
    "    return res[:,1:]"
   ]
  },
  {
   "cell_type": "code",
   "execution_count": 4,
   "metadata": {},
   "outputs": [],
   "source": [
    "def AllClassesBinRepresentation(data):\n",
    "    \n",
    "    k = len(data)\n",
    "    \n",
    "    for i in range(k):\n",
    "        \n",
    "        for j in range(len(data[i])):\n",
    "            \n",
    "            if(j == 0):\n",
    "                eachImage = binRepresentation(data[i][j])\n",
    "            else:\n",
    "                eachImage = np.vstack((eachImage, binRepresentation(data[i][j])))\n",
    "                \n",
    "        if(i == 0):\n",
    "            res = eachImage\n",
    "        else:\n",
    "            res = np.vstack((res, eachImage))\n",
    "            \n",
    "    return res"
   ]
  },
  {
   "cell_type": "code",
   "execution_count": 5,
   "metadata": {},
   "outputs": [],
   "source": [
    "f1 = 'Dataset/Classification/Image_Group17/train/formal_garden/'\n",
    "f2 = 'Dataset/Classification/Image_Group17/train/engine_room/'\n",
    "f3 = 'Dataset/Classification/Image_Group17/train/basement/'\n",
    "\n",
    "f1_new = 'Dataset/Classification/Image_Group17/train/formal_garden_resized/'\n",
    "f2_new = 'Dataset/Classification/Image_Group17/train/engine_room_resized/'\n",
    "f3_new = 'Dataset/Classification/Image_Group17/train/basement_resized/'"
   ]
  },
  {
   "cell_type": "code",
   "execution_count": 8,
   "metadata": {},
   "outputs": [],
   "source": [
    "resize(f1, f1_new)\n",
    "resize(f2, f2_new)\n",
    "resize(f3, f3_new)"
   ]
  },
  {
   "cell_type": "code",
   "execution_count": 9,
   "metadata": {},
   "outputs": [],
   "source": [
    "ext = \"*.jpg\"\n",
    "classes = [0]*3\n",
    "classes[0] = imread_collection(f1_new+ext)\n",
    "classes[1] = imread_collection(f2_new+ext)\n",
    "classes[2] = imread_collection(f3_new+ext)"
   ]
  },
  {
   "cell_type": "code",
   "execution_count": 10,
   "metadata": {},
   "outputs": [],
   "source": [
    "dfTrain = AllClassesBinRepresentation(classes)"
   ]
  },
  {
   "cell_type": "code",
   "execution_count": 11,
   "metadata": {},
   "outputs": [
    {
     "data": {
      "text/plain": [
       "(9600, 24)"
      ]
     },
     "execution_count": 11,
     "metadata": {},
     "output_type": "execute_result"
    }
   ],
   "source": [
    "dfTrain.shape"
   ]
  },
  {
   "cell_type": "code",
   "execution_count": 12,
   "metadata": {},
   "outputs": [],
   "source": [
    "f1_test = 'Dataset/Classification/Image_Group17/test/formal_garden/'\n",
    "f2_test = 'Dataset/Classification/Image_Group17/test/engine_room/'\n",
    "f3_test = 'Dataset/Classification/Image_Group17/test/basement/'\n",
    "\n",
    "f1_test_new = 'Dataset/Classification/Image_Group17/test/formal_garden_resized/'\n",
    "f2_test_new = 'Dataset/Classification/Image_Group17/test/engine_room_resized/'\n",
    "f3_test_new = 'Dataset/Classification/Image_Group17/test/basement_resized/'"
   ]
  },
  {
   "cell_type": "code",
   "execution_count": 13,
   "metadata": {},
   "outputs": [],
   "source": [
    "resize(f1_test, f1_test_new)\n",
    "resize(f2_test, f2_test_new)\n",
    "resize(f3_test, f3_test_new)"
   ]
  },
  {
   "cell_type": "code",
   "execution_count": 14,
   "metadata": {},
   "outputs": [],
   "source": [
    "ext = \"*.jpg\"\n",
    "classesTest = [0]*3\n",
    "classesTest[0] = imread_collection(f1_test_new+ext)\n",
    "classesTest[1] = imread_collection(f2_test_new+ext)\n",
    "classesTest[2] = imread_collection(f3_test_new+ext)"
   ]
  },
  {
   "cell_type": "code",
   "execution_count": 15,
   "metadata": {},
   "outputs": [],
   "source": [
    "dfTest = AllClassesBinRepresentation(classesTest)"
   ]
  },
  {
   "cell_type": "code",
   "execution_count": 16,
   "metadata": {},
   "outputs": [
    {
     "data": {
      "text/plain": [
       "(9600, 24)"
      ]
     },
     "execution_count": 16,
     "metadata": {},
     "output_type": "execute_result"
    }
   ],
   "source": [
    "dfTest.shape"
   ]
  },
  {
   "cell_type": "code",
   "execution_count": 17,
   "metadata": {},
   "outputs": [],
   "source": [
    "dataset = np.vstack((dfTrain, dfTest))"
   ]
  },
  {
   "cell_type": "code",
   "execution_count": 18,
   "metadata": {},
   "outputs": [
    {
     "data": {
      "text/plain": [
       "(19200, 24)"
      ]
     },
     "execution_count": 18,
     "metadata": {},
     "output_type": "execute_result"
    }
   ],
   "source": [
    "dataset.shape"
   ]
  },
  {
   "cell_type": "code",
   "execution_count": 19,
   "metadata": {},
   "outputs": [],
   "source": [
    "from sklearn.cluster import KMeans"
   ]
  },
  {
   "cell_type": "code",
   "execution_count": 20,
   "metadata": {},
   "outputs": [],
   "source": [
    "kmeans = KMeans(n_clusters=32, random_state=0).fit(dataset)"
   ]
  },
  {
   "cell_type": "code",
   "execution_count": 21,
   "metadata": {},
   "outputs": [
    {
     "data": {
      "text/plain": [
       "19200"
      ]
     },
     "execution_count": 21,
     "metadata": {},
     "output_type": "execute_result"
    }
   ],
   "source": [
    "len(kmeans.labels_)"
   ]
  },
  {
   "cell_type": "code",
   "execution_count": 22,
   "metadata": {},
   "outputs": [],
   "source": [
    "def labelRepresentation(image, kmeans):\n",
    "    \n",
    "    im = image.reshape(3,256,256)\n",
    "    vec = binRepresentation(im)\n",
    "    preds = kmeans.predict(vec)\n",
    "    sr = pd.Series(preds)\n",
    "    sr = sr.value_counts()\n",
    "    d = np.zeros(32)\n",
    "    \n",
    "    for k in range(32):\n",
    "        try:\n",
    "            d[k] = sr[k]\n",
    "        except:\n",
    "            'EOF'\n",
    "    \n",
    "    return d"
   ]
  },
  {
   "cell_type": "code",
   "execution_count": 23,
   "metadata": {},
   "outputs": [],
   "source": [
    "def AllImagesBoVWRepresentation(data, kmeans):\n",
    "    \n",
    "    k = len(data)\n",
    "    res = []\n",
    "    for i in range(k):\n",
    "        \n",
    "        for j in range(len(data[i])):\n",
    "            \n",
    "            if(j == 0):\n",
    "                eachImage = labelRepresentation(data[i][j], kmeans)\n",
    "            else:\n",
    "                eachImage = np.vstack((eachImage, labelRepresentation(data[i][j], kmeans)))\n",
    "                \n",
    "        res.append(eachImage)\n",
    "            \n",
    "    return res"
   ]
  },
  {
   "cell_type": "code",
   "execution_count": 24,
   "metadata": {},
   "outputs": [],
   "source": [
    "BoVWTrain = AllImagesBoVWRepresentation(classes, kmeans)"
   ]
  },
  {
   "cell_type": "code",
   "execution_count": 25,
   "metadata": {},
   "outputs": [],
   "source": [
    "BoVWTest = AllImagesBoVWRepresentation(classesTest, kmeans)"
   ]
  },
  {
   "cell_type": "code",
   "execution_count": 25,
   "metadata": {},
   "outputs": [
    {
     "data": {
      "text/plain": [
       "937"
      ]
     },
     "execution_count": 25,
     "metadata": {},
     "output_type": "execute_result"
    }
   ],
   "source": [
    "np.sum(BoVWTest[0] == BoVWTrain[0])"
   ]
  },
  {
   "cell_type": "code",
   "execution_count": 26,
   "metadata": {},
   "outputs": [
    {
     "data": {
      "text/plain": [
       "854"
      ]
     },
     "execution_count": 26,
     "metadata": {},
     "output_type": "execute_result"
    }
   ],
   "source": [
    "np.sum(BoVWTest[0] == BoVWTrain[1])"
   ]
  },
  {
   "cell_type": "code",
   "execution_count": 27,
   "metadata": {},
   "outputs": [
    {
     "data": {
      "text/plain": [
       "909"
      ]
     },
     "execution_count": 27,
     "metadata": {},
     "output_type": "execute_result"
    }
   ],
   "source": [
    "np.sum(BoVWTest[0] == BoVWTrain[2])"
   ]
  },
  {
   "cell_type": "code",
   "execution_count": 28,
   "metadata": {},
   "outputs": [
    {
     "data": {
      "text/plain": [
       "788"
      ]
     },
     "execution_count": 28,
     "metadata": {},
     "output_type": "execute_result"
    }
   ],
   "source": [
    "np.sum(BoVWTest[1] == BoVWTrain[1])"
   ]
  },
  {
   "cell_type": "code",
   "execution_count": 29,
   "metadata": {},
   "outputs": [
    {
     "data": {
      "text/plain": [
       "865"
      ]
     },
     "execution_count": 29,
     "metadata": {},
     "output_type": "execute_result"
    }
   ],
   "source": [
    "np.sum(BoVWTest[1] == BoVWTrain[0])"
   ]
  },
  {
   "cell_type": "code",
   "execution_count": 30,
   "metadata": {},
   "outputs": [
    {
     "data": {
      "text/plain": [
       "855"
      ]
     },
     "execution_count": 30,
     "metadata": {},
     "output_type": "execute_result"
    }
   ],
   "source": [
    "np.sum(BoVWTest[1] == BoVWTrain[2])"
   ]
  },
  {
   "cell_type": "code",
   "execution_count": 31,
   "metadata": {},
   "outputs": [
    {
     "data": {
      "text/plain": [
       "952"
      ]
     },
     "execution_count": 31,
     "metadata": {},
     "output_type": "execute_result"
    }
   ],
   "source": [
    "np.sum(BoVWTest[2] == BoVWTrain[2])"
   ]
  },
  {
   "cell_type": "code",
   "execution_count": 32,
   "metadata": {},
   "outputs": [
    {
     "data": {
      "text/plain": [
       "945"
      ]
     },
     "execution_count": 32,
     "metadata": {},
     "output_type": "execute_result"
    }
   ],
   "source": [
    "np.sum(BoVWTest[2] == BoVWTrain[0])"
   ]
  },
  {
   "cell_type": "code",
   "execution_count": 33,
   "metadata": {},
   "outputs": [
    {
     "data": {
      "text/plain": [
       "838"
      ]
     },
     "execution_count": 33,
     "metadata": {},
     "output_type": "execute_result"
    }
   ],
   "source": [
    "np.sum(BoVWTest[2] == BoVWTrain[1])"
   ]
  },
  {
   "cell_type": "markdown",
   "metadata": {},
   "source": [
    "# Some Experimentation"
   ]
  },
  {
   "cell_type": "code",
   "execution_count": 34,
   "metadata": {},
   "outputs": [],
   "source": [
    "MeanBoVWTrain_formal_garden = np.sum(BoVWTrain[0],axis = 0)/50"
   ]
  },
  {
   "cell_type": "code",
   "execution_count": 35,
   "metadata": {},
   "outputs": [],
   "source": [
    "MeanBoVWTest_formal_garden = np.sum(BoVWTest[0], axis = 0)/50"
   ]
  },
  {
   "cell_type": "code",
   "execution_count": 36,
   "metadata": {},
   "outputs": [],
   "source": [
    "MeanBoVWTrain_engine_room = np.sum(BoVWTrain[1],axis = 0)/50"
   ]
  },
  {
   "cell_type": "code",
   "execution_count": 37,
   "metadata": {},
   "outputs": [],
   "source": [
    "MeanBoVWTest_engine_room = np.sum(BoVWTest[1],axis = 0)/50"
   ]
  },
  {
   "cell_type": "code",
   "execution_count": 38,
   "metadata": {},
   "outputs": [],
   "source": [
    "MeanBoVWTrain_basement = np.sum(BoVWTrain[2],axis = 0)/50"
   ]
  },
  {
   "cell_type": "code",
   "execution_count": 39,
   "metadata": {},
   "outputs": [],
   "source": [
    "MeanBoVWTest_basement = np.sum(BoVWTest[2],axis = 0)/50"
   ]
  },
  {
   "cell_type": "markdown",
   "metadata": {},
   "source": [
    "## Comparing Formal Garden Test Images (Mean) with all three Train Images BoVW Representation (Mean)"
   ]
  },
  {
   "cell_type": "code",
   "execution_count": 40,
   "metadata": {},
   "outputs": [
    {
     "data": {
      "image/png": "[encoded data removed]",
      "text/plain": [
       "<Figure size 432x288 with 1 Axes>"
      ]
     },
     "metadata": {},
     "output_type": "display_data"
    }
   ],
   "source": [
    "barWidth = 0.25\n",
    "xlabels = range(32)\n",
    "xlabels2 = [x + barWidth for x in xlabels]\n",
    "plt.bar(xlabels, MeanBoVWTrain_formal_garden, color ='maroon', \n",
    "        width = 0.4)\n",
    "plt.bar(xlabels2, MeanBoVWTest_formal_garden, color = 'orange',\n",
    "       width = 0.4)\n",
    "\n",
    "plt.show()"
   ]
  },
  {
   "cell_type": "code",
   "execution_count": 41,
   "metadata": {},
   "outputs": [
    {
     "data": {
      "image/png": "[encoded data removed]",
      "text/plain": [
       "<Figure size 432x288 with 1 Axes>"
      ]
     },
     "metadata": {},
     "output_type": "display_data"
    }
   ],
   "source": [
    "barWidth = 0.25\n",
    "xlabels = range(32)\n",
    "xlabels2 = [x + barWidth for x in xlabels]\n",
    "plt.bar(xlabels, MeanBoVWTrain_engine_room, color ='maroon', \n",
    "        width = 0.4)\n",
    "plt.bar(xlabels2, MeanBoVWTest_formal_garden, color = 'orange',\n",
    "       width = 0.4)\n",
    "\n",
    "plt.show()"
   ]
  },
  {
   "cell_type": "code",
   "execution_count": 42,
   "metadata": {},
   "outputs": [
    {
     "data": {
      "image/png": "[encoded data removed]",
      "text/plain": [
       "<Figure size 432x288 with 1 Axes>"
      ]
     },
     "metadata": {},
     "output_type": "display_data"
    }
   ],
   "source": [
    "barWidth = 0.25\n",
    "xlabels = range(32)\n",
    "xlabels2 = [x + barWidth for x in xlabels]\n",
    "plt.bar(xlabels, MeanBoVWTrain_basement, color ='maroon', \n",
    "        width = 0.4)\n",
    "plt.bar(xlabels2, MeanBoVWTest_formal_garden, color = 'orange',\n",
    "       width = 0.4)\n",
    "\n",
    "plt.show()"
   ]
  },
  {
   "cell_type": "markdown",
   "metadata": {},
   "source": [
    "# Using Bag of Visual Words to Classify Images"
   ]
  },
  {
   "cell_type": "code",
   "execution_count": 29,
   "metadata": {},
   "outputs": [],
   "source": [
    "trainData = np.array(BoVWTrain)"
   ]
  },
  {
   "cell_type": "code",
   "execution_count": 30,
   "metadata": {},
   "outputs": [],
   "source": [
    "testData = np.array(BoVWTest)"
   ]
  },
  {
   "cell_type": "code",
   "execution_count": 47,
   "metadata": {},
   "outputs": [],
   "source": [
    "k = 3\n",
    "Xtrain = []\n",
    "Ytrain = np.zeros(k)\n",
    "\n",
    "Xval = []\n",
    "Yval = np.zeros(k)\n",
    "for i in range(k):\n",
    "    train, val = train_test_split(trainData[i], test_size=0.2, random_state=42, shuffle=True)\n",
    "    for j in range(len(train)):\n",
    "        Xtrain.append(train[j].reshape(1,-1))\n",
    "        a = np.zeros(k)\n",
    "        a[i] = 1\n",
    "        Ytrain = np.vstack((Ytrain, a))\n",
    "    \n",
    "    for j in range(len(val)):\n",
    "        Xval.append(val[j].reshape(1,-1))\n",
    "        a = np.zeros(k)\n",
    "        a[i] = 1\n",
    "        Yval = np.vstack((Yval, a))\n",
    "        \n",
    "Ytrain = Ytrain[1:,:]\n",
    "Xtrain = np.array(Xtrain).reshape(120,32)\n",
    "\n",
    "Yval = Yval[1:,:]\n",
    "Xval = np.array(Xval).reshape(30,32)"
   ]
  },
  {
   "cell_type": "code",
   "execution_count": 48,
   "metadata": {},
   "outputs": [],
   "source": [
    "k = 3\n",
    "Xtest = []\n",
    "Ytest = np.zeros(k)\n",
    "\n",
    "for i in range(k):\n",
    "    for j in range(len(testData[i])):\n",
    "        Xtest.append(testData[i][j].reshape(1,-1))\n",
    "        a = np.zeros(k)\n",
    "        a[i] = 1\n",
    "        Ytest = np.vstack((Ytest, a))\n",
    "        \n",
    "\n",
    "Ytest = Ytest[1:,:]\n",
    "Xtest = np.array(Xtest).reshape(150,32)"
   ]
  },
  {
   "cell_type": "code",
   "execution_count": 49,
   "metadata": {},
   "outputs": [],
   "source": [
    "def checkParam(η, α, β, epochs, low, high):\n",
    "\n",
    "    nn = MLNN.MLNN([32,80,80,3], ['logistic','logistic','softmax'], low, high)\n",
    "    W, E = nn.fit(Xtrain, Ytrain, η, α, β, epochs)\n",
    "    \n",
    "    predTrain = np.argmax(nn.predict(Xtrain, β), axis = 1)\n",
    "    actualTrain = np.argmax(Ytrain, axis = 1)\n",
    "    trainCorrect = np.sum(predTrain == actualTrain)\n",
    "    \n",
    "    print('Accuracy on Training data =', trainCorrect/(len(actualTrain)))\n",
    "    print('Confusion Matrix:')\n",
    "    print(confusion_matrix(actualTrain, predTrain))\n",
    "    \n",
    "    predVal = np.argmax(nn.predict(Xval, β), axis = 1)\n",
    "    actualVal = np.argmax(Yval, axis = 1)\n",
    "    valCorrect = np.sum(predVal == actualVal)\n",
    "\n",
    "    print('Accuracy on Validation data =', valCorrect/(len(actualVal)))\n",
    "    print('Confusion Matrix:')\n",
    "    print(confusion_matrix(actualVal, predVal))\n",
    "    \n",
    "    return nn, W"
   ]
  },
  {
   "cell_type": "code",
   "execution_count": 62,
   "metadata": {},
   "outputs": [
    {
     "name": "stdout",
     "output_type": "stream",
     "text": [
      "echo 0, error = 19.80\n",
      "echo 1, error = 18.66\n",
      "echo 2, error = 17.55\n",
      "echo 3, error = 16.59\n",
      "echo 4, error = 15.92\n",
      "echo 5, error = 15.32\n",
      "echo 6, error = 14.77\n",
      "echo 7, error = 14.20\n",
      "echo 8, error = 13.57\n",
      "echo 9, error = 12.97\n",
      "echo 10, error = 12.45\n",
      "echo 11, error = 11.99\n",
      "echo 12, error = 11.52\n",
      "echo 13, error = 11.08\n",
      "echo 14, error = 10.65\n",
      "echo 15, error = 10.22\n",
      "echo 16, error = 9.88\n",
      "echo 17, error = 9.58\n",
      "echo 18, error = 9.26\n",
      "echo 19, error = 8.95\n",
      "echo 20, error = 8.61\n",
      "echo 21, error = 8.35\n",
      "echo 22, error = 8.13\n",
      "echo 23, error = 7.91\n",
      "echo 24, error = 7.71\n",
      "echo 25, error = 7.50\n",
      "echo 26, error = 7.30\n",
      "echo 27, error = 7.08\n",
      "echo 28, error = 6.88\n",
      "echo 29, error = 6.68\n",
      "echo 30, error = 6.49\n",
      "echo 31, error = 6.30\n",
      "echo 32, error = 6.12\n",
      "echo 33, error = 5.98\n",
      "echo 34, error = 5.86\n",
      "echo 35, error = 5.76\n",
      "echo 36, error = 5.66\n",
      "echo 37, error = 5.57\n",
      "echo 38, error = 5.49\n",
      "echo 39, error = 5.41\n",
      "echo 40, error = 5.33\n",
      "echo 41, error = 5.23\n",
      "echo 42, error = 5.12\n",
      "echo 43, error = 5.04\n",
      "echo 44, error = 4.97\n",
      "echo 45, error = 4.90\n",
      "echo 46, error = 4.83\n",
      "echo 47, error = 4.76\n",
      "echo 48, error = 4.69\n",
      "echo 49, error = 4.62\n",
      "echo 50, error = 4.57\n",
      "echo 51, error = 4.52\n",
      "echo 52, error = 4.47\n",
      "echo 53, error = 4.42\n",
      "echo 54, error = 4.37\n",
      "echo 55, error = 4.32\n",
      "echo 56, error = 4.26\n",
      "echo 57, error = 4.21\n",
      "echo 58, error = 4.15\n",
      "echo 59, error = 4.10\n",
      "echo 60, error = 4.06\n",
      "echo 61, error = 4.02\n",
      "echo 62, error = 3.98\n",
      "echo 63, error = 3.94\n",
      "echo 64, error = 3.91\n",
      "echo 65, error = 3.87\n",
      "echo 66, error = 3.85\n",
      "echo 67, error = 3.82\n",
      "echo 68, error = 3.80\n",
      "echo 69, error = 3.77\n",
      "echo 70, error = 3.74\n",
      "echo 71, error = 3.72\n",
      "echo 72, error = 3.70\n",
      "echo 73, error = 3.68\n",
      "echo 74, error = 3.66\n",
      "echo 75, error = 3.64\n",
      "echo 76, error = 3.61\n",
      "echo 77, error = 3.57\n",
      "echo 78, error = 3.54\n",
      "echo 79, error = 3.51\n",
      "echo 80, error = 3.49\n",
      "echo 81, error = 3.47\n",
      "echo 82, error = 3.46\n",
      "echo 83, error = 3.44\n",
      "echo 84, error = 3.42\n",
      "echo 85, error = 3.40\n",
      "echo 86, error = 3.38\n",
      "echo 87, error = 3.35\n",
      "echo 88, error = 3.31\n",
      "echo 89, error = 3.32\n",
      "echo 90, error = 3.29\n",
      "echo 91, error = 3.25\n",
      "echo 92, error = 3.24\n",
      "echo 93, error = 3.20\n",
      "echo 94, error = 3.17\n",
      "echo 95, error = 3.16\n",
      "echo 96, error = 3.13\n",
      "echo 97, error = 3.11\n",
      "echo 98, error = 3.11\n",
      "echo 99, error = 3.08\n",
      "echo 100, error = 3.06\n",
      "echo 101, error = 3.06\n",
      "echo 102, error = 3.04\n",
      "echo 103, error = 3.02\n",
      "echo 104, error = 3.01\n",
      "echo 105, error = 2.99\n",
      "echo 106, error = 2.97\n",
      "echo 107, error = 2.96\n",
      "echo 108, error = 2.94\n",
      "echo 109, error = 2.92\n",
      "echo 110, error = 2.89\n",
      "echo 111, error = 2.84\n",
      "echo 112, error = 2.81\n",
      "echo 113, error = 2.79\n",
      "echo 114, error = 2.78\n",
      "echo 115, error = 2.76\n",
      "echo 116, error = 2.75\n",
      "echo 117, error = 2.74\n",
      "echo 118, error = 2.72\n",
      "echo 119, error = 2.71\n",
      "echo 120, error = 2.69\n",
      "echo 121, error = 2.68\n",
      "echo 122, error = 2.66\n",
      "echo 123, error = 2.65\n",
      "echo 124, error = 2.63\n",
      "echo 125, error = 2.62\n",
      "echo 126, error = 2.61\n",
      "echo 127, error = 2.59\n",
      "echo 128, error = 2.58\n",
      "echo 129, error = 2.57\n",
      "echo 130, error = 2.55\n",
      "echo 131, error = 2.54\n",
      "echo 132, error = 2.53\n",
      "echo 133, error = 2.52\n",
      "echo 134, error = 2.51\n",
      "echo 135, error = 2.50\n",
      "echo 136, error = 2.49\n",
      "echo 137, error = 2.48\n",
      "echo 138, error = 2.46\n",
      "echo 139, error = 2.44\n",
      "echo 140, error = 2.42\n",
      "echo 141, error = 2.40\n",
      "echo 142, error = 2.40\n",
      "echo 143, error = 2.38\n",
      "echo 144, error = 2.37\n",
      "echo 145, error = 2.36\n",
      "echo 146, error = 2.35\n",
      "echo 147, error = 2.33\n",
      "echo 148, error = 2.32\n",
      "echo 149, error = 2.30\n",
      "echo 150, error = 2.28\n",
      "echo 151, error = 2.26\n",
      "echo 152, error = 2.23\n",
      "echo 153, error = 2.19\n",
      "echo 154, error = 2.15\n",
      "echo 155, error = 2.10\n",
      "echo 156, error = 2.09\n",
      "echo 157, error = 2.08\n",
      "echo 158, error = 2.09\n",
      "echo 159, error = 2.08\n",
      "echo 160, error = 2.06\n",
      "echo 161, error = 2.05\n",
      "echo 162, error = 2.04\n",
      "echo 163, error = 2.03\n",
      "echo 164, error = 2.01\n",
      "echo 165, error = 1.98\n",
      "echo 166, error = 1.95\n",
      "echo 167, error = 1.95\n",
      "echo 168, error = 1.94\n",
      "echo 169, error = 1.92\n",
      "echo 170, error = 1.92\n",
      "echo 171, error = 1.91\n",
      "echo 172, error = 1.89\n",
      "echo 173, error = 1.89\n",
      "echo 174, error = 1.88\n",
      "echo 175, error = 1.86\n",
      "echo 176, error = 1.86\n",
      "echo 177, error = 1.84\n",
      "echo 178, error = 1.83\n",
      "echo 179, error = 1.83\n",
      "echo 180, error = 1.81\n",
      "echo 181, error = 1.80\n",
      "echo 182, error = 1.79\n",
      "echo 183, error = 1.78\n",
      "echo 184, error = 1.77\n",
      "echo 185, error = 1.76\n",
      "echo 186, error = 1.75\n",
      "echo 187, error = 1.74\n",
      "echo 188, error = 1.73\n",
      "echo 189, error = 1.72\n",
      "echo 190, error = 1.71\n",
      "echo 191, error = 1.70\n",
      "echo 192, error = 1.69\n",
      "echo 193, error = 1.68\n",
      "echo 194, error = 1.67\n",
      "echo 195, error = 1.65\n",
      "echo 196, error = 1.62\n",
      "echo 197, error = 1.61\n",
      "echo 198, error = 1.60\n",
      "echo 199, error = 1.60\n",
      "echo 200, error = 1.59\n",
      "echo 201, error = 1.58\n",
      "echo 202, error = 1.57\n",
      "echo 203, error = 1.56\n",
      "echo 204, error = 1.56\n",
      "echo 205, error = 1.55\n",
      "echo 206, error = 1.54\n",
      "echo 207, error = 1.54\n",
      "echo 208, error = 1.53\n",
      "echo 209, error = 1.52\n",
      "echo 210, error = 1.52\n",
      "echo 211, error = 1.51\n",
      "echo 212, error = 1.51\n",
      "echo 213, error = 1.50\n",
      "echo 214, error = 1.49\n",
      "echo 215, error = 1.49\n",
      "echo 216, error = 1.48\n",
      "echo 217, error = 1.47\n",
      "echo 218, error = 1.47\n",
      "echo 219, error = 1.46\n",
      "echo 220, error = 1.46\n",
      "echo 221, error = 1.46\n",
      "echo 222, error = 1.45\n",
      "echo 223, error = 1.45\n",
      "echo 224, error = 1.44\n",
      "echo 225, error = 1.43\n",
      "echo 226, error = 1.43\n",
      "echo 227, error = 1.42\n",
      "echo 228, error = 1.42\n",
      "echo 229, error = 1.41\n",
      "echo 230, error = 1.41\n",
      "echo 231, error = 1.40\n",
      "echo 232, error = 1.40\n",
      "echo 233, error = 1.39\n",
      "echo 234, error = 1.39\n",
      "echo 235, error = 1.38\n",
      "echo 236, error = 1.38\n",
      "echo 237, error = 1.37\n",
      "echo 238, error = 1.37\n",
      "echo 239, error = 1.36\n",
      "echo 240, error = 1.36\n",
      "echo 241, error = 1.35\n",
      "echo 242, error = 1.35\n",
      "echo 243, error = 1.34\n",
      "echo 244, error = 1.34\n",
      "echo 245, error = 1.34\n",
      "echo 246, error = 1.33\n",
      "echo 247, error = 1.33\n",
      "echo 248, error = 1.32\n",
      "echo 249, error = 1.32\n",
      "echo 250, error = 1.31\n",
      "echo 251, error = 1.31\n",
      "echo 252, error = 1.31\n",
      "echo 253, error = 1.30\n",
      "echo 254, error = 1.30\n",
      "echo 255, error = 1.29\n",
      "echo 256, error = 1.29\n",
      "echo 257, error = 1.28\n",
      "echo 258, error = 1.27\n",
      "echo 259, error = 1.26\n",
      "echo 260, error = 1.25\n",
      "echo 261, error = 1.25\n",
      "echo 262, error = 1.24\n",
      "echo 263, error = 1.24\n",
      "echo 264, error = 1.24\n",
      "echo 265, error = 1.23\n",
      "echo 266, error = 1.23\n",
      "echo 267, error = 1.22\n",
      "echo 268, error = 1.21\n",
      "echo 269, error = 1.20\n",
      "echo 270, error = 1.20\n",
      "echo 271, error = 1.19\n",
      "echo 272, error = 1.19\n",
      "echo 273, error = 1.19\n",
      "echo 274, error = 1.18\n",
      "echo 275, error = 1.18\n",
      "echo 276, error = 1.18\n",
      "echo 277, error = 1.17\n",
      "echo 278, error = 1.17\n",
      "echo 279, error = 1.17\n",
      "echo 280, error = 1.17\n",
      "echo 281, error = 1.16\n",
      "echo 282, error = 1.16\n",
      "echo 283, error = 1.16\n",
      "echo 284, error = 1.16\n",
      "echo 285, error = 1.16\n",
      "echo 286, error = 1.16\n",
      "echo 287, error = 1.16\n",
      "echo 288, error = 1.16\n",
      "echo 289, error = 1.16\n",
      "echo 290, error = 1.15\n",
      "echo 291, error = 1.15\n",
      "echo 292, error = 1.15\n",
      "echo 293, error = 1.15\n",
      "echo 294, error = 1.16\n",
      "echo 295, error = 1.16\n",
      "echo 296, error = 1.15\n",
      "echo 297, error = 1.15\n",
      "echo 298, error = 1.15\n",
      "echo 299, error = 1.14\n",
      "echo 300, error = 1.14\n",
      "echo 301, error = 1.14\n",
      "echo 302, error = 1.14\n",
      "echo 303, error = 1.13\n",
      "echo 304, error = 1.13\n",
      "echo 305, error = 1.13\n",
      "echo 306, error = 1.13\n",
      "echo 307, error = 1.12\n",
      "echo 308, error = 1.12\n",
      "echo 309, error = 1.12\n",
      "echo 310, error = 1.12\n",
      "echo 311, error = 1.11\n",
      "echo 312, error = 1.11\n",
      "echo 313, error = 1.11\n",
      "echo 314, error = 1.10\n",
      "echo 315, error = 1.10\n",
      "echo 316, error = 1.10\n",
      "echo 317, error = 1.10\n",
      "echo 318, error = 1.10\n",
      "echo 319, error = 1.10\n",
      "echo 320, error = 1.10\n",
      "echo 321, error = 1.08\n",
      "echo 322, error = 1.08\n",
      "echo 323, error = 1.07\n",
      "echo 324, error = 1.07\n",
      "echo 325, error = 1.06\n",
      "echo 326, error = 1.06\n",
      "echo 327, error = 1.05\n",
      "echo 328, error = 1.05\n",
      "echo 329, error = 1.05\n",
      "echo 330, error = 1.04\n",
      "echo 331, error = 1.04\n",
      "echo 332, error = 1.03\n",
      "echo 333, error = 1.02\n",
      "echo 334, error = 1.01\n",
      "echo 335, error = 1.01\n",
      "echo 336, error = 1.01\n",
      "echo 337, error = 1.01\n",
      "echo 338, error = 1.00\n",
      "echo 339, error = 1.00\n",
      "echo 340, error = 1.00\n",
      "echo 341, error = 0.99\n",
      "echo 342, error = 0.99\n",
      "echo 343, error = 0.99\n",
      "echo 344, error = 0.98\n",
      "echo 345, error = 0.98\n",
      "echo 346, error = 0.99\n",
      "echo 347, error = 0.99\n",
      "echo 348, error = 0.98\n",
      "echo 349, error = 0.97\n",
      "echo 350, error = 0.97\n",
      "echo 351, error = 0.96\n",
      "echo 352, error = 0.96\n",
      "echo 353, error = 0.95\n",
      "echo 354, error = 0.95\n",
      "echo 355, error = 0.95\n",
      "echo 356, error = 0.94\n",
      "echo 357, error = 0.94\n",
      "echo 358, error = 0.94\n",
      "echo 359, error = 0.94\n",
      "echo 360, error = 0.93\n",
      "echo 361, error = 0.93\n",
      "echo 362, error = 0.93\n",
      "echo 363, error = 0.92\n",
      "echo 364, error = 0.92\n",
      "echo 365, error = 0.92\n",
      "echo 366, error = 0.91\n",
      "echo 367, error = 0.91\n",
      "echo 368, error = 0.91\n",
      "echo 369, error = 0.90\n",
      "echo 370, error = 0.90\n",
      "echo 371, error = 0.90\n"
     ]
    },
    {
     "name": "stdout",
     "output_type": "stream",
     "text": [
      "echo 372, error = 0.90\n",
      "echo 373, error = 0.89\n",
      "echo 374, error = 0.89\n",
      "echo 375, error = 0.89\n",
      "echo 376, error = 0.89\n",
      "echo 377, error = 0.89\n",
      "echo 378, error = 0.89\n",
      "echo 379, error = 0.88\n",
      "echo 380, error = 0.88\n",
      "echo 381, error = 0.88\n",
      "echo 382, error = 0.88\n",
      "echo 383, error = 0.88\n",
      "echo 384, error = 0.88\n",
      "echo 385, error = 0.88\n",
      "echo 386, error = 0.87\n",
      "echo 387, error = 0.87\n",
      "echo 388, error = 0.87\n",
      "echo 389, error = 0.87\n",
      "echo 390, error = 0.87\n",
      "echo 391, error = 0.87\n",
      "echo 392, error = 0.87\n",
      "echo 393, error = 0.87\n",
      "echo 394, error = 0.86\n",
      "echo 395, error = 0.86\n",
      "echo 396, error = 0.86\n",
      "echo 397, error = 0.86\n",
      "echo 398, error = 0.87\n",
      "echo 399, error = 0.88\n",
      "echo 400, error = 0.89\n",
      "echo 401, error = 0.89\n",
      "echo 402, error = 0.88\n",
      "echo 403, error = 0.88\n",
      "echo 404, error = 0.88\n",
      "echo 405, error = 0.88\n",
      "echo 406, error = 0.88\n",
      "echo 407, error = 0.88\n",
      "echo 408, error = 0.88\n",
      "echo 409, error = 0.88\n",
      "echo 410, error = 0.88\n",
      "echo 411, error = 0.88\n",
      "echo 412, error = 0.87\n",
      "echo 413, error = 0.87\n",
      "echo 414, error = 0.87\n",
      "echo 415, error = 0.87\n",
      "echo 416, error = 0.87\n",
      "echo 417, error = 0.87\n",
      "echo 418, error = 0.86\n",
      "echo 419, error = 0.86\n",
      "echo 420, error = 0.86\n",
      "echo 421, error = 0.86\n",
      "echo 422, error = 0.85\n",
      "echo 423, error = 0.85\n",
      "echo 424, error = 0.85\n",
      "echo 425, error = 0.84\n",
      "echo 426, error = 0.84\n",
      "echo 427, error = 0.83\n",
      "echo 428, error = 0.83\n",
      "echo 429, error = 0.82\n",
      "echo 430, error = 0.82\n",
      "echo 431, error = 0.81\n",
      "echo 432, error = 0.80\n",
      "echo 433, error = 0.80\n",
      "echo 434, error = 0.79\n",
      "echo 435, error = 0.79\n",
      "echo 436, error = 0.79\n",
      "echo 437, error = 0.79\n",
      "echo 438, error = 0.78\n",
      "echo 439, error = 0.78\n",
      "echo 440, error = 0.78\n",
      "echo 441, error = 0.78\n",
      "echo 442, error = 0.78\n",
      "echo 443, error = 0.77\n",
      "echo 444, error = 0.77\n",
      "echo 445, error = 0.77\n",
      "echo 446, error = 0.77\n",
      "echo 447, error = 0.78\n",
      "echo 448, error = 0.78\n",
      "echo 449, error = 0.77\n",
      "echo 450, error = 0.77\n",
      "echo 451, error = 0.77\n",
      "echo 452, error = 0.77\n",
      "echo 453, error = 0.77\n",
      "echo 454, error = 0.77\n",
      "echo 455, error = 0.76\n",
      "echo 456, error = 0.76\n",
      "echo 457, error = 0.76\n",
      "echo 458, error = 0.76\n",
      "echo 459, error = 0.76\n",
      "echo 460, error = 0.76\n",
      "echo 461, error = 0.75\n",
      "echo 462, error = 0.75\n",
      "echo 463, error = 0.75\n",
      "echo 464, error = 0.75\n",
      "echo 465, error = 0.75\n",
      "echo 466, error = 0.75\n",
      "echo 467, error = 0.74\n",
      "echo 468, error = 0.74\n",
      "echo 469, error = 0.74\n",
      "echo 470, error = 0.74\n",
      "echo 471, error = 0.74\n",
      "echo 472, error = 0.73\n",
      "echo 473, error = 0.73\n",
      "echo 474, error = 0.73\n",
      "echo 475, error = 0.73\n",
      "echo 476, error = 0.72\n",
      "echo 477, error = 0.72\n",
      "echo 478, error = 0.71\n",
      "echo 479, error = 0.70\n",
      "echo 480, error = 0.68\n",
      "echo 481, error = 0.68\n",
      "echo 482, error = 0.67\n",
      "echo 483, error = 0.67\n",
      "echo 484, error = 0.67\n",
      "echo 485, error = 0.67\n",
      "echo 486, error = 0.66\n",
      "echo 487, error = 0.66\n",
      "echo 488, error = 0.66\n",
      "echo 489, error = 0.66\n",
      "echo 490, error = 0.65\n",
      "echo 491, error = 0.65\n",
      "echo 492, error = 0.65\n",
      "echo 493, error = 0.64\n",
      "echo 494, error = 0.64\n",
      "echo 495, error = 0.64\n",
      "echo 496, error = 0.63\n",
      "echo 497, error = 0.63\n",
      "echo 498, error = 0.62\n",
      "echo 499, error = 0.61\n",
      "echo 500, error = 0.60\n",
      "echo 501, error = 0.59\n",
      "echo 502, error = 0.57\n",
      "echo 503, error = 0.57\n",
      "echo 504, error = 0.57\n",
      "echo 505, error = 0.57\n",
      "echo 506, error = 0.57\n",
      "echo 507, error = 0.57\n",
      "echo 508, error = 0.57\n",
      "echo 509, error = 0.57\n",
      "echo 510, error = 0.56\n",
      "echo 511, error = 0.56\n",
      "echo 512, error = 0.56\n",
      "echo 513, error = 0.56\n",
      "echo 514, error = 0.56\n",
      "echo 515, error = 0.56\n",
      "echo 516, error = 0.56\n",
      "echo 517, error = 0.56\n",
      "echo 518, error = 0.56\n",
      "echo 519, error = 0.56\n",
      "echo 520, error = 0.56\n",
      "echo 521, error = 0.56\n",
      "echo 522, error = 0.56\n",
      "echo 523, error = 0.56\n",
      "echo 524, error = 0.56\n",
      "echo 525, error = 0.56\n",
      "echo 526, error = 0.56\n",
      "echo 527, error = 0.56\n",
      "echo 528, error = 0.55\n",
      "echo 529, error = 0.55\n",
      "echo 530, error = 0.55\n",
      "echo 531, error = 0.55\n",
      "echo 532, error = 0.55\n",
      "echo 533, error = 0.55\n",
      "echo 534, error = 0.55\n",
      "echo 535, error = 0.55\n",
      "echo 536, error = 0.55\n",
      "echo 537, error = 0.55\n",
      "echo 538, error = 0.55\n",
      "echo 539, error = 0.55\n",
      "echo 540, error = 0.55\n",
      "echo 541, error = 0.55\n",
      "echo 542, error = 0.55\n",
      "echo 543, error = 0.55\n",
      "echo 544, error = 0.55\n",
      "echo 545, error = 0.56\n",
      "echo 546, error = 0.58\n",
      "echo 547, error = 0.58\n",
      "echo 548, error = 0.57\n",
      "echo 549, error = 0.57\n",
      "echo 550, error = 0.57\n",
      "echo 551, error = 0.57\n",
      "echo 552, error = 0.57\n",
      "echo 553, error = 0.56\n",
      "echo 554, error = 0.56\n",
      "echo 555, error = 0.56\n",
      "echo 556, error = 0.56\n",
      "echo 557, error = 0.56\n",
      "echo 558, error = 0.56\n",
      "echo 559, error = 0.55\n",
      "echo 560, error = 0.55\n",
      "echo 561, error = 0.55\n",
      "echo 562, error = 0.55\n",
      "echo 563, error = 0.55\n",
      "echo 564, error = 0.55\n",
      "echo 565, error = 0.55\n",
      "echo 566, error = 0.54\n",
      "echo 567, error = 0.54\n",
      "echo 568, error = 0.54\n",
      "echo 569, error = 0.54\n",
      "echo 570, error = 0.54\n",
      "echo 571, error = 0.54\n",
      "echo 572, error = 0.54\n",
      "echo 573, error = 0.53\n",
      "echo 574, error = 0.53\n",
      "echo 575, error = 0.53\n",
      "echo 576, error = 0.53\n",
      "echo 577, error = 0.53\n",
      "echo 578, error = 0.53\n",
      "echo 579, error = 0.53\n",
      "echo 580, error = 0.52\n",
      "echo 581, error = 0.52\n",
      "echo 582, error = 0.52\n",
      "echo 583, error = 0.52\n",
      "echo 584, error = 0.53\n",
      "echo 585, error = 0.53\n",
      "echo 586, error = 0.54\n",
      "echo 587, error = 0.54\n",
      "echo 588, error = 0.53\n",
      "echo 589, error = 0.53\n",
      "echo 590, error = 0.53\n",
      "echo 591, error = 0.53\n",
      "echo 592, error = 0.53\n",
      "echo 593, error = 0.53\n",
      "echo 594, error = 0.53\n",
      "echo 595, error = 0.53\n",
      "echo 596, error = 0.53\n",
      "echo 597, error = 0.53\n",
      "echo 598, error = 0.53\n",
      "echo 599, error = 0.52\n",
      "echo 600, error = 0.52\n",
      "echo 601, error = 0.52\n",
      "echo 602, error = 0.52\n",
      "echo 603, error = 0.52\n",
      "echo 604, error = 0.52\n",
      "echo 605, error = 0.51\n",
      "echo 606, error = 0.51\n",
      "echo 607, error = 0.51\n",
      "echo 608, error = 0.51\n",
      "echo 609, error = 0.51\n",
      "echo 610, error = 0.50\n",
      "echo 611, error = 0.50\n",
      "echo 612, error = 0.50\n",
      "echo 613, error = 0.50\n",
      "echo 614, error = 0.50\n",
      "echo 615, error = 0.49\n",
      "echo 616, error = 0.49\n",
      "echo 617, error = 0.49\n",
      "echo 618, error = 0.49\n",
      "echo 619, error = 0.49\n",
      "echo 620, error = 0.49\n",
      "echo 621, error = 0.49\n",
      "echo 622, error = 0.48\n",
      "echo 623, error = 0.48\n",
      "echo 624, error = 0.48\n",
      "echo 625, error = 0.49\n",
      "echo 626, error = 0.49\n",
      "echo 627, error = 0.49\n",
      "echo 628, error = 0.49\n",
      "echo 629, error = 0.49\n",
      "echo 630, error = 0.49\n",
      "echo 631, error = 0.49\n",
      "echo 632, error = 0.49\n",
      "echo 633, error = 0.49\n",
      "echo 634, error = 0.49\n",
      "echo 635, error = 0.49\n",
      "echo 636, error = 0.49\n",
      "echo 637, error = 0.49\n",
      "echo 638, error = 0.49\n",
      "echo 639, error = 0.49\n",
      "echo 640, error = 0.49\n",
      "echo 641, error = 0.49\n",
      "echo 642, error = 0.49\n",
      "echo 643, error = 0.49\n",
      "echo 644, error = 0.49\n",
      "echo 645, error = 0.49\n",
      "echo 646, error = 0.49\n",
      "echo 647, error = 0.49\n",
      "echo 648, error = 0.50\n",
      "echo 649, error = 0.50\n",
      "echo 650, error = 0.50\n",
      "echo 651, error = 0.50\n",
      "echo 652, error = 0.50\n",
      "echo 653, error = 0.50\n",
      "echo 654, error = 0.50\n",
      "echo 655, error = 0.50\n",
      "echo 656, error = 0.50\n",
      "echo 657, error = 0.50\n",
      "echo 658, error = 0.50\n",
      "echo 659, error = 0.50\n",
      "echo 660, error = 0.50\n",
      "echo 661, error = 0.50\n",
      "echo 662, error = 0.50\n",
      "echo 663, error = 0.50\n",
      "echo 664, error = 0.50\n",
      "echo 665, error = 0.50\n",
      "echo 666, error = 0.50\n",
      "echo 667, error = 0.50\n",
      "echo 668, error = 0.50\n",
      "echo 669, error = 0.50\n",
      "echo 670, error = 0.50\n",
      "echo 671, error = 0.50\n",
      "echo 672, error = 0.50\n",
      "echo 673, error = 0.50\n",
      "echo 674, error = 0.49\n",
      "echo 675, error = 0.49\n",
      "echo 676, error = 0.49\n",
      "echo 677, error = 0.49\n",
      "echo 678, error = 0.49\n",
      "echo 679, error = 0.49\n",
      "echo 680, error = 0.49\n",
      "echo 681, error = 0.49\n",
      "echo 682, error = 0.49\n",
      "echo 683, error = 0.49\n",
      "echo 684, error = 0.48\n",
      "echo 685, error = 0.48\n",
      "echo 686, error = 0.47\n",
      "echo 687, error = 0.47\n",
      "echo 688, error = 0.47\n",
      "echo 689, error = 0.47\n",
      "echo 690, error = 0.47\n",
      "echo 691, error = 0.47\n",
      "echo 692, error = 0.46\n",
      "echo 693, error = 0.46\n",
      "echo 694, error = 0.46\n",
      "echo 695, error = 0.46\n",
      "echo 696, error = 0.46\n",
      "echo 697, error = 0.46\n",
      "echo 698, error = 0.46\n",
      "echo 699, error = 0.46\n",
      "echo 700, error = 0.46\n",
      "echo 701, error = 0.46\n",
      "echo 702, error = 0.46\n",
      "echo 703, error = 0.46\n",
      "echo 704, error = 0.46\n",
      "echo 705, error = 0.45\n",
      "echo 706, error = 0.45\n",
      "echo 707, error = 0.45\n",
      "echo 708, error = 0.45\n",
      "echo 709, error = 0.44\n",
      "echo 710, error = 0.44\n",
      "echo 711, error = 0.44\n",
      "echo 712, error = 0.44\n",
      "echo 713, error = 0.44\n",
      "echo 714, error = 0.44\n",
      "echo 715, error = 0.44\n",
      "echo 716, error = 0.44\n",
      "echo 717, error = 0.44\n",
      "echo 718, error = 0.44\n",
      "echo 719, error = 0.44\n",
      "echo 720, error = 0.44\n",
      "echo 721, error = 0.44\n",
      "echo 722, error = 0.43\n",
      "echo 723, error = 0.43\n",
      "echo 724, error = 0.43\n",
      "echo 725, error = 0.43\n",
      "echo 726, error = 0.43\n",
      "echo 727, error = 0.43\n",
      "echo 728, error = 0.43\n",
      "echo 729, error = 0.43\n",
      "echo 730, error = 0.43\n",
      "echo 731, error = 0.43\n",
      "echo 732, error = 0.43\n",
      "echo 733, error = 0.43\n",
      "echo 734, error = 0.43\n",
      "echo 735, error = 0.43\n",
      "echo 736, error = 0.43\n",
      "echo 737, error = 0.43\n",
      "echo 738, error = 0.43\n",
      "echo 739, error = 0.43\n"
     ]
    },
    {
     "name": "stdout",
     "output_type": "stream",
     "text": [
      "echo 740, error = 0.43\n",
      "echo 741, error = 0.43\n",
      "echo 742, error = 0.43\n",
      "echo 743, error = 0.43\n",
      "echo 744, error = 0.43\n",
      "echo 745, error = 0.43\n",
      "echo 746, error = 0.43\n",
      "echo 747, error = 0.43\n",
      "echo 748, error = 0.43\n",
      "echo 749, error = 0.43\n",
      "echo 750, error = 0.43\n",
      "echo 751, error = 0.43\n",
      "echo 752, error = 0.43\n",
      "echo 753, error = 0.43\n",
      "echo 754, error = 0.43\n",
      "echo 755, error = 0.43\n",
      "echo 756, error = 0.43\n",
      "echo 757, error = 0.43\n",
      "echo 758, error = 0.43\n",
      "echo 759, error = 0.43\n",
      "echo 760, error = 0.43\n",
      "echo 761, error = 0.43\n",
      "echo 762, error = 0.43\n",
      "echo 763, error = 0.43\n",
      "echo 764, error = 0.43\n",
      "echo 765, error = 0.43\n",
      "echo 766, error = 0.43\n",
      "echo 767, error = 0.43\n",
      "echo 768, error = 0.42\n",
      "echo 769, error = 0.42\n",
      "echo 770, error = 0.42\n",
      "echo 771, error = 0.42\n",
      "echo 772, error = 0.42\n",
      "echo 773, error = 0.42\n",
      "echo 774, error = 0.42\n",
      "echo 775, error = 0.42\n",
      "echo 776, error = 0.42\n",
      "echo 777, error = 0.42\n",
      "echo 778, error = 0.42\n",
      "echo 779, error = 0.42\n",
      "echo 780, error = 0.42\n",
      "echo 781, error = 0.42\n",
      "echo 782, error = 0.42\n",
      "echo 783, error = 0.42\n",
      "echo 784, error = 0.42\n",
      "echo 785, error = 0.42\n",
      "echo 786, error = 0.42\n",
      "echo 787, error = 0.42\n",
      "echo 788, error = 0.42\n",
      "echo 789, error = 0.42\n",
      "echo 790, error = 0.42\n",
      "echo 791, error = 0.42\n",
      "echo 792, error = 0.42\n",
      "echo 793, error = 0.42\n",
      "echo 794, error = 0.42\n",
      "echo 795, error = 0.42\n",
      "echo 796, error = 0.42\n",
      "echo 797, error = 0.42\n",
      "echo 798, error = 0.42\n",
      "echo 799, error = 0.42\n"
     ]
    },
    {
     "data": {
      "image/png": "[encoded data removed]",
      "text/plain": [
       "<Figure size 432x288 with 1 Axes>"
      ]
     },
     "metadata": {},
     "output_type": "display_data"
    },
    {
     "name": "stdout",
     "output_type": "stream",
     "text": [
      "Accuracy on Training data = 0.9333333333333333\n",
      "Confusion Matrix:\n",
      "[[37  1  2]\n",
      " [ 0 37  3]\n",
      " [ 1  1 38]]\n",
      "Accuracy on Validation data = 0.4\n",
      "Confusion Matrix:\n",
      "[[3 2 5]\n",
      " [1 3 6]\n",
      " [2 2 6]]\n"
     ]
    }
   ],
   "source": [
    "nn, W = checkParam(0.09, 0.4, 0.7, 800, -3, 3)"
   ]
  },
  {
   "cell_type": "code",
   "execution_count": 63,
   "metadata": {},
   "outputs": [
    {
     "name": "stdout",
     "output_type": "stream",
     "text": [
      "Accuracy on Test data = 0.4266666666666667\n",
      "Confusion Matrix:\n",
      "[[15 10 25]\n",
      " [ 9 25 16]\n",
      " [11 15 24]]\n"
     ]
    }
   ],
   "source": [
    "predTest = np.argmax(nn.predict(Xtest, 1), axis = 1)\n",
    "actualTest = np.argmax(Ytest, axis = 1)\n",
    "testCorrect = np.sum(predTest == actualTest)\n",
    "\n",
    "print('Accuracy on Test data =', testCorrect/(len(actualTest)))\n",
    "print('Confusion Matrix:')\n",
    "print(confusion_matrix(actualTest, predTest))"
   ]
  },
  {
   "cell_type": "markdown",
   "metadata": {},
   "source": [
    "## The Observation here is that though our accuracy is too good on training dataset but it still fails to do so on validation and test dataset as it is indeed overfitted and also our data, i.e., BoVW is very sparse matrix which is definitely not a good sign to train any data"
   ]
  }
 ],
 "metadata": {
  "kernelspec": {
   "display_name": "Python 3",
   "language": "python",
   "name": "python3"
  },
  "language_info": {
   "codemirror_mode": {
    "name": "ipython",
    "version": 3
   },
   "file_extension": ".py",
   "mimetype": "text/x-python",
   "name": "python",
   "nbconvert_exporter": "python",
   "pygments_lexer": "ipython3",
   "version": "3.6.5"
  }
 },
 "nbformat": 4,
 "nbformat_minor": 2
}
